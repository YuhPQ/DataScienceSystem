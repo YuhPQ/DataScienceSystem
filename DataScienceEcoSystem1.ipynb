{
  "metadata": {
    "kernelspec": {
      "name": "python",
      "display_name": "Python (Pyodide)",
      "language": "python"
    },
    "language_info": {
      "codemirror_mode": {
        "name": "python",
        "version": 3
      },
      "file_extension": ".py",
      "mimetype": "text/x-python",
      "name": "python",
      "nbconvert_exporter": "python",
      "pygments_lexer": "ipython3",
      "version": "3.8"
    }
  },
  "nbformat_minor": 5,
  "nbformat": 4,
  "cells": [
    {
      "id": "357c0145-6b08-40e9-8488-c8441cf9780c",
      "cell_type": "markdown",
      "source": "# Data Science Notebook",
      "metadata": {}
    },
    {
      "id": "e9d6f0ed-9c48-410a-9507-306d8361d458",
      "cell_type": "code",
      "source": "",
      "metadata": {
        "trusted": true
      },
      "outputs": [],
      "execution_count": null
    },
    {
      "id": "60cf5f87-f363-4818-8101-75252fc70197",
      "cell_type": "markdown",
      "source": "## Introduction\nThis notebook covers fundamental concepts in Data Science, including programming languages, libraries, tools, and arithmetic operations.",
      "metadata": {}
    },
    {
      "id": "1e214810-facc-4f93-8148-48754794aa0e",
      "cell_type": "markdown",
      "source": "## Data Science Languages\n- Python\n- R\n- SQL\n- Julia\n- Scala",
      "metadata": {}
    },
    {
      "id": "9e141553-1b98-4b22-b1e4-c1b65098d6f8",
      "cell_type": "markdown",
      "source": "## Data Science Libraries\n- Pandas\n- NumPy\n- Matplotlib\n- Scikit-learn\n- TensorFlow\n- Keras",
      "metadata": {}
    },
    {
      "id": "711406e8-f85d-438f-a852-4229966139c6",
      "cell_type": "markdown",
      "source": "## Data Science Tools\n\n| Tool Name       | Purpose                 |\n|----------------|------------------------|\n| Jupyter Notebook | Interactive coding environment |\n| RStudio         | Statistical computing  |\n| Apache Spark    | Big data processing    |\n| Tableau         | Data visualization     |\n| TensorFlow      | Machine learning       |",
      "metadata": {}
    },
    {
      "id": "6cb09b9d-7e0e-4fe2-a7f2-a6c5347a3156",
      "cell_type": "markdown",
      "source": "## Arithmetic Expression Examples\nBelow are some examples of arithmetic expressions using Python.",
      "metadata": {}
    },
    {
      "id": "b6e78695-a512-4e29-b33c-be46b5f144e4",
      "cell_type": "code",
      "source": "# Multiply and add numbers\nresult = (5 * 3) + 2\nresult",
      "metadata": {
        "trusted": true
      },
      "outputs": [
        {
          "execution_count": 2,
          "output_type": "execute_result",
          "data": {
            "text/plain": "17"
          },
          "metadata": {}
        }
      ],
      "execution_count": 2
    },
    {
      "id": "59324ba7-ecce-4261-97e8-f18bff18fda6",
      "cell_type": "markdown",
      "source": "# Convert minutes to hours\nminutes = 150\nhours = minutes / 60\nhours",
      "metadata": {}
    },
    {
      "id": "f46981d3-f422-4af0-b0fc-916f8a7ff0c0",
      "cell_type": "markdown",
      "source": "## Objectives\n- Understand Data Science languages and libraries\n- Learn about popular Data Science tools\n- Perform basic arithmetic operations in Python\n- Convert time units using Python code",
      "metadata": {}
    },
    {
      "id": "336ae246-7171-4c1d-a0d9-65e25cc44c4b",
      "cell_type": "markdown",
      "source": "## Author\nPham Quoc Huy",
      "metadata": {}
    },
    {
      "id": "46a87750-6808-461d-a3c9-728b7e3961f0",
      "cell_type": "code",
      "source": "",
      "metadata": {
        "trusted": true
      },
      "outputs": [],
      "execution_count": null
    }
  ]
}